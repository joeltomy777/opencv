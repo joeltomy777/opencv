{
  "nbformat": 4,
  "nbformat_minor": 0,
  "metadata": {
    "colab": {
      "provenance": [],
      "authorship_tag": "ABX9TyNt+2sjf2mIUP4BdvxzllDW",
      "include_colab_link": true
    },
    "kernelspec": {
      "name": "python3",
      "display_name": "Python 3"
    },
    "language_info": {
      "name": "python"
    }
  },
  "cells": [
    {
      "cell_type": "markdown",
      "metadata": {
        "id": "view-in-github",
        "colab_type": "text"
      },
      "source": [
        "<a href=\"https://colab.research.google.com/github/joeltomy777/opencv/blob/master/Credit_Score_Classification_(_Project_1)_.ipynb\" target=\"_parent\"><img src=\"https://colab.research.google.com/assets/colab-badge.svg\" alt=\"Open In Colab\"/></a>"
      ]
    },
    {
      "cell_type": "code",
      "execution_count": 5,
      "metadata": {
        "id": "tGa4GQ93BEwA"
      },
      "outputs": [],
      "source": [
        "import numpy as np\n",
        "import pandas as pd\n",
        "import plotly.express as  px\n",
        "import plotly.graph_objects as go\n",
        "import plotly.io as pio\n",
        "pio.templates.default = \"plotly_white\""
      ]
    },
    {
      "cell_type": "code",
      "source": [
        "data = pd.read_csv(\"train.csv\", error_bad_lines=False)\n",
        "print(data.head())"
      ],
      "metadata": {
        "id": "9ksFth24CHhb"
      },
      "execution_count": null,
      "outputs": []
    },
    {
      "cell_type": "code",
      "source": [
        "print(data.info())"
      ],
      "metadata": {
        "id": "5M40IWdTFN4K"
      },
      "execution_count": null,
      "outputs": []
    },
    {
      "cell_type": "code",
      "source": [
        "#data.dropna(subset=['Payment_of_Min_Amount'], inplace=True)"
      ],
      "metadata": {
        "id": "LBXD1YcbIFzt"
      },
      "execution_count": 4,
      "outputs": []
    },
    {
      "cell_type": "code",
      "source": [
        "print(data.isnull().sum())"
      ],
      "metadata": {
        "id": "rFJYDEoCGJp1"
      },
      "execution_count": null,
      "outputs": []
    },
    {
      "cell_type": "code",
      "source": [
        "data[\"Credit_Score\"].value_counts()"
      ],
      "metadata": {
        "id": "4VIU2SB9DPMq"
      },
      "execution_count": null,
      "outputs": []
    },
    {
      "cell_type": "code",
      "source": [
        "fig = px.box(data, x=\"Occupation\",color=\"Credit_Score\",title=\"Credit Scores Based on Occupation\",color_discrete_map={'Poor':'red','Standard':'yellow','Good':'green'})\n",
        "fig.show()"
      ],
      "metadata": {
        "id": "tuG2u4Z7IaE_"
      },
      "execution_count": null,
      "outputs": []
    },
    {
      "cell_type": "code",
      "source": [
        "for i in [\"Annual_Income\", \"Monthly_Inhand_Salary\", \"Num_Bank_Accounts\", \"Num_Credit_Card\", \"Interest_Rate\", \"Num_of_Loan\", \"Type_of_Loan\", \"Delay_from_due_date\", \"Num_of_Delayed_Payment\", \"Outstanding_Debt\", \"Credit_Utilization_Ratio\", \"Credit_History_Age\", \"Total_EMI_per_month\", \"Amount_invested_monthly\", \"Monthly_Balance\"]:\n",
        "  fig = px.box(data,x=\"Credit_Score\",y=i,color=\"Credit_Score\",title=\"Credit Scores Based on Annual Income\",color_discrete_map={'Poor':'red','Standard':'yellow','Good':'green'})\n",
        "  fig.update_traces(quartilemethod=\"exclusive\")\n",
        "  fig.show()\n",
        "  print()"
      ],
      "metadata": {
        "id": "pbRDm-u0I0m5"
      },
      "execution_count": null,
      "outputs": []
    },
    {
      "cell_type": "code",
      "source": [
        "data[\"Credit_Mix\"] = data[\"Credit_Mix\"].map({\"Standard\": 1,\"Good\": 2,\"Bad\": 0})"
      ],
      "metadata": {
        "id": "suVTQXstwaD2"
      },
      "execution_count": 12,
      "outputs": []
    },
    {
      "cell_type": "code",
      "source": [
        "from sklearn.model_selection import train_test_split\n",
        "x = np.array(data[[\"Annual_Income\", \"Monthly_Inhand_Salary\",\"Num_Bank_Accounts\", \"Num_Credit_Card\",\"Interest_Rate\", \"Num_of_Loan\",\"Delay_from_due_date\", \"Num_of_Delayed_Payment\",\"Credit_Mix\", \"Outstanding_Debt\",\"Credit_History_Age\", \"Monthly_Balance\"]])\n",
        "y = np.array(data[[\"Credit_Score\"]])\n",
        "\n",
        "xtrain, xtest, ytrain, ytest = train_test_split(x, y,test_size=0.33,random_state=42)\n",
        "from sklearn.ensemble import RandomForestClassifier\n",
        "model = RandomForestClassifier()\n",
        "model.fit(xtrain, ytrain)"
      ],
      "metadata": {
        "id": "gg52AE-lvfMi"
      },
      "execution_count": null,
      "outputs": []
    },
    {
      "cell_type": "code",
      "source": [
        "print(\"Credit Score Prediction : \")\n",
        "a = float(input(\"Annual Income: \"))\n",
        "b = float(input(\"Monthly Inhand Salary: \"))\n",
        "c = float(input(\"Number of Bank Accounts: \"))\n",
        "d = float(input(\"Number of Credit cards: \"))\n",
        "e = float(input(\"Interest rate: \"))\n",
        "f = float(input(\"Number of Loans: \"))\n",
        "g = float(input(\"Average number of days delayed by the person: \"))\n",
        "h = float(input(\"Number of delayed payments: \"))\n",
        "i = input(\"Credit Mix (Bad: 0, Standard: 1, Good: 3) : \")\n",
        "j = float(input(\"Outstanding Debt: \"))\n",
        "k = float(input(\"Credit History Age: \"))\n",
        "l = float(input(\"Monthly Balance: \"))\n",
        "\n",
        "features = np.array([[a, b, c, d, e, f, g, h, i, j, k, l]])\n",
        "print(\"Predicted Credit Score = \", model.predict(features))"
      ],
      "metadata": {
        "colab": {
          "base_uri": "https://localhost:8080/"
        },
        "id": "1jw0nug-5jXO",
        "outputId": "60dbea2c-6747-428f-80f4-d4d5192efc79"
      },
      "execution_count": 14,
      "outputs": [
        {
          "output_type": "stream",
          "name": "stdout",
          "text": [
            "Credit Score Prediction : \n",
            "Annual Income: 20000\n",
            "Monthly Inhand Salary: 1800\n",
            "Number of Bank Accounts: 3\n",
            "Number of Credit cards: 3\n",
            "Interest rate: 9\n",
            "Number of Loans: 1\n",
            "Average number of days delayed by the person: 12\n",
            "Number of delayed payments: 2\n",
            "Credit Mix (Bad: 0, Standard: 1, Good: 3) : 1\n",
            "Outstanding Debt: 100\n",
            "Credit History Age: 100\n",
            "Monthly Balance: 310\n",
            "Predicted Credit Score =  ['Standard']\n"
          ]
        }
      ]
    }
  ]
}